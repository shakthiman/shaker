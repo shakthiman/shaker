{
  "cells": [
    {
      "cell_type": "code",
      "source": [
        "from google.colab import output\n",
        "output.enable_custom_widget_manager()"
      ],
      "metadata": {
        "id": "nQ65nJTiMV3j"
      },
      "execution_count": null,
      "outputs": []
    },
    {
      "cell_type": "markdown",
      "source": [
        "Support for third party widgets will remain active for the duration of the session. To disable support:"
      ],
      "metadata": {
        "id": "tTrUvt6QMV3m"
      }
    },
    {
      "cell_type": "code",
      "execution_count": null,
      "metadata": {
        "id": "9WhSP5zFP3on"
      },
      "outputs": [],
      "source": [
        "# Load the test protein\n",
        "blob = client.bucket(\"public-datasets-deepmind-alphafold-v4\").blob(\n",
        "    'AF-A0A5C2FU82-F1'+'-model_v4.cif')\n",
        "parser = PDB.FastMMCIFParser()\n",
        "structure = parser.get_structure('AF-A0A5C2FU82-F1', blob.open())\n"
      ]
    },
    {
      "cell_type": "code",
      "execution_count": null,
      "metadata": {
        "id": "VewU1XOM2S1m"
      },
      "outputs": [],
      "source": [
        "def PreProcessPDBStructure(pdb_structure):\n",
        "    residue_names = []\n",
        "    atom_names = []\n",
        "    coords = []\n",
        "    for r in pdb_structure.get_residues():\n",
        "        for a in r.get_atoms():\n",
        "            residue_names.append(r.get_resname())\n",
        "            atom_names.append(a.get_name())\n",
        "            coords.append(a.get_coord())\n",
        "    residue_names = np.array(residue_names)\n",
        "    atom_names = np.array(atom_names)\n",
        "    normalized_coordinates = np.array(coords)\n",
        "    normalized_coordinates -= np.mean(coords, 0)\n",
        "\n",
        "\n",
        "    return {\n",
        "        'name': pdb_structure.get_id(),\n",
        "        'residue_names': residue_names,\n",
        "        'atom_names': atom_names,\n",
        "        'normalized_coordinates': normalized_coordinates,\n",
        "    }"
      ]
    },
    {
      "cell_type": "code",
      "execution_count": null,
      "metadata": {
        "id": "L-nHCVBoL6jx"
      },
      "outputs": [],
      "source": [
        "def _FeaturesFromPreprocessedStructure(\n",
        "    preprocessed_structure, residue_names_preprocessor,\n",
        "    atom_names_preprocessor):\n",
        "  residue_names = residue_names_preprocessor.lookup(\n",
        "      tf.constant(preprocessed_structure['residue_names']))\n",
        "  atom_names = atom_names_preprocessor.lookup(\n",
        "      tf.constant(preprocessed_structure['atom_names']))\n",
        "  normalized_coordinates = tf.constant(preprocessed_structure['normalized_coordinates'])\n",
        "  return {\n",
        "      'residue_names': tf.expand_dims(residue_names, 0),\n",
        "      'atom_names': tf.expand_dims(atom_names, 0),\n",
        "      'normalized_coordinates': tf.expand_dims(normalized_coordinates, 0)}"
      ]
    },
    {
      "cell_type": "code",
      "execution_count": null,
      "metadata": {
        "id": "ZiY6Efg0NB8i"
      },
      "outputs": [],
      "source": [
        "def UpdateStructure(structure, new_coordinates):\n",
        "  loc = 0\n",
        "  for atom in structure.get_atoms():\n",
        "    atom.set_coord(new_coordinates[loc])\n",
        "    loc+=1\n",
        "  structure.atom_to_internal_coordinates(True)"
      ]
    },
    {
      "cell_type": "markdown",
      "metadata": {
        "id": "YxZWwLx4Numm"
      },
      "source": [
        "## Original Structure"
      ]
    },
    {
      "cell_type": "code",
      "execution_count": null,
      "metadata": {
        "id": "tXqlxvku2hLq"
      },
      "outputs": [],
      "source": [
        "preprocessed_structure = PreProcessPDBStructure(structure)\n",
        "original_data = _FeaturesFromPreprocessedStructure(\n",
        "    preprocessed_structure, residue_names_preprocessor, atom_names_preprocessor)"
      ]
    },
    {
      "cell_type": "code",
      "execution_count": null,
      "metadata": {
        "id": "NW4KET94Se5j"
      },
      "outputs": [],
      "source": [
        "#conditioning = diffusion_model._conditioner.conditioning(\n",
        "#    original_data['residue_names'], original_data['atom_names'])\n",
        "#encoding = diffusion_model._encoder.encode(\n",
        "#    original_data['normalized_coordinates'], conditioning)\n",
        "#diffusion_model.set_scorer(\n",
        "#    ScoreTrain(PerfectScoreModel(encoding)))\n",
        "\n",
        "#gamma_module = tf.Module()\n",
        "#gamma_module.gamma_min = -6.0\n",
        "#gamma_module.gamma_max = 10.0\n",
        "#diffusion_model.set_gamma_module(gamma_module)"
      ]
    },
    {
      "cell_type": "code",
      "execution_count": null,
      "metadata": {
        "id": "7YriIhvpQlXV"
      },
      "outputs": [],
      "source": [
        "nglview.show_biopython(structure)"
      ]
    },
    {
      "cell_type": "code",
      "execution_count": null,
      "metadata": {
        "id": "qWC9qj77Nmuy"
      },
      "outputs": [],
      "source": [
        "UpdateStructure(structure, preprocessed_structure['normalized_coordinates'])\n",
        "nglview.show_biopython(structure)"
      ]
    },
    {
      "cell_type": "code",
      "execution_count": null,
      "metadata": {
        "id": "4QdpbyRx8klw"
      },
      "outputs": [],
      "source": [
        "print(preprocessed_structure['normalized_coordinates'])"
      ]
    },
    {
      "cell_type": "code",
      "execution_count": null,
      "metadata": {
        "id": "wGSgwbQjqniM"
      },
      "outputs": [],
      "source": [
        "(error_dist, true_dist, z_0, z_t, new_z_0) = diffusion_model.reconstruct(1, original_data)"
      ]
    },
    {
      "cell_type": "code",
      "execution_count": null,
      "metadata": {
        "id": "59FSaoASuBzd"
      },
      "outputs": [],
      "source": [
        "print(error_dist.mean())"
      ]
    },
    {
      "cell_type": "code",
      "execution_count": null,
      "metadata": {
        "id": "f-bnC2QFsNIk"
      },
      "outputs": [],
      "source": [
        "print(true_dist.mean())"
      ]
    },
    {
      "cell_type": "code",
      "execution_count": null,
      "metadata": {
        "id": "XAHHHzhisdLn"
      },
      "outputs": [],
      "source": [
        "print(preprocessed_structure['normalized_coordinates'])"
      ]
    },
    {
      "cell_type": "code",
      "source": [
        "def NetImprovement(true_solution, error_solution, actual_solution):\n",
        "  return  (tf.reduce_mean(tf.math.abs(true_solution - actual_solution))/\n",
        "           tf.reduce_mean(tf.math.abs(true_solution - error_solution)))"
      ],
      "metadata": {
        "id": "ucmyh61Fo8rx"
      },
      "execution_count": null,
      "outputs": []
    },
    {
      "cell_type": "code",
      "source": [
        "print(tf.reduce_mean(tf.math.abs(preprocessed_structure['normalized_coordinates'] - true_dist.mean()[0])))"
      ],
      "metadata": {
        "id": "D-dRR3pAorXA"
      },
      "execution_count": null,
      "outputs": []
    },
    {
      "cell_type": "code",
      "source": [
        "print(tf.reduce_mean(tf.math.abs(preprocessed_structure['normalized_coordinates'] - error_dist.mean()[0])))"
      ],
      "metadata": {
        "id": "N4bwzxO-o0Bi"
      },
      "execution_count": null,
      "outputs": []
    },
    {
      "cell_type": "code",
      "source": [
        "print(\n",
        "  NetImprovement(preprocessed_structure['normalized_coordinates'],\n",
        "                 error_dist.mean()[0], true_dist.mean()[0]))"
      ],
      "metadata": {
        "id": "nl7Ce21fpZIm"
      },
      "execution_count": null,
      "outputs": []
    },
    {
      "cell_type": "code",
      "source": [
        "print(NetImprovement(z_0, z_t, new_z_0))"
      ],
      "metadata": {
        "id": "QEycAZsLte1j"
      },
      "execution_count": null,
      "outputs": []
    },
    {
      "cell_type": "code",
      "source": [
        "print(new_z_0)"
      ],
      "metadata": {
        "id": "T78iPf94t0hL"
      },
      "execution_count": null,
      "outputs": []
    },
    {
      "cell_type": "code",
      "source": [
        "import scipy\n",
        "import numpy as np\n",
        "import matplotlib.pyplot as plt"
      ],
      "metadata": {
        "id": "07Ge2rAwBcAv"
      },
      "execution_count": null,
      "outputs": []
    },
    {
      "cell_type": "code",
      "execution_count": null,
      "metadata": {
        "id": "hhknXrQ1ZhjZ"
      },
      "outputs": [],
      "source": [
        "UpdateStructure(structure, true_dist.mean()[0])\n",
        "nglview.show_biopython(structure)"
      ]
    },
    {
      "cell_type": "code",
      "source": [
        "def PlotToDist(timesteps, gamma_min, gamma_max, x_0):\n",
        "  ts = np.arange(timesteps+1)/timesteps\n",
        "  gammas = gamma_max + (gamma_min - gamma_max) *ts\n",
        "  def sigmoid(g):\n",
        "    return 1/(1 + np.exp(-g))\n",
        "  sigma2s = sigmoid(gammas)\n",
        "  x_norm = tf.norm(x_0).numpy()\n",
        "  e_norm = tf.math.sqrt(tf.math.reduce_sum(tf.ones_like(x_0))).numpy()\n",
        "\n",
        "  plt.plot(ts, (1-np.sqrt(1-sigma2s)) * x_norm + np.sqrt(sigma2s) * e_norm)\n",
        "  print((1-np.sqrt(1-sigma2s)) * x_norm + np.sqrt(sigma2s) * e_norm)\n",
        "  plt.axvline(x=0.9)\n",
        "  plt.axvline(x=1)\n",
        "  plt.ylim([0,25])"
      ],
      "metadata": {
        "id": "F9pkVOw_GH6S"
      },
      "execution_count": null,
      "outputs": []
    },
    {
      "cell_type": "code",
      "source": [
        "PlotToDist(10000, -6, 6, z_0)"
      ],
      "metadata": {
        "id": "qDkvbXQKHEPR"
      },
      "execution_count": null,
      "outputs": []
    },
    {
      "cell_type": "code",
      "source": [
        "print(tf.norm(z_0 - new_z_0))\n",
        "print(tf.norm(z_0 - z_t))"
      ],
      "metadata": {
        "id": "VbyS1B-UKTU8"
      },
      "execution_count": null,
      "outputs": []
    },
    {
      "cell_type": "code",
      "execution_count": null,
      "metadata": {
        "id": "GvrdoCrWZsh8"
      },
      "outputs": [],
      "source": [
        "print(true_dist.mean())\n",
        "print(tf.norm(true_dist.mean()[0] - preprocessed_structure['normalized_coordinates'])/811)"
      ]
    },
    {
      "cell_type": "code",
      "source": [
        "print(true_dist.mean()[0] - preprocessed_structure['normalized_coordinates'])\n",
        "print(tf.norm(true_dist.mean()[0] - preprocessed_structure['normalized_coordinates'], ord=1)/811)"
      ],
      "metadata": {
        "id": "COZw57jFVAeY"
      },
      "execution_count": null,
      "outputs": []
    },
    {
      "cell_type": "code",
      "source": [
        "def DecoderPerformance(gammas_to_test):\n",
        "  cond = diffusion_model._conditioner.conditioning(\n",
        "      original_data['residue_names'], original_data['residue_names'], training=False)\n",
        "  emb = diffusion_model._encoder.encode(\n",
        "      original_data['normalized_coordinates'], cond, training=False)\n",
        "  eps = tf.random.normal(tf.shape(emb))\n",
        "  errors = []\n",
        "  for g in gammas_to_test:\n",
        "    emb_with_error = diffusion_model.variance_preserving_map(emb, g, eps) / diffusion_model.alpha(g)\n",
        "    solution = diffusion_model._decoder.decode(emb_with_error, cond, training=False)\n",
        "    errors.append(tf.norm(solution.mean()[0] - preprocessed_structure['normalized_coordinates'], ord=1)/811)\n",
        "  plt.plot(gammas_to_test, errors)"
      ],
      "metadata": {
        "id": "40g5BY12XdjB"
      },
      "execution_count": null,
      "outputs": []
    },
    {
      "cell_type": "code",
      "source": [
        "print(tf.norm(perfect_solution.mean()[0] - preprocessed_structure['normalized_coordinates'], ord=1)/811)\n",
        "print(perfect_solution.mean()[0] - preprocessed_structure['normalized_coordinates'])\n",
        "DecoderPerformance([float(x) for x in np.arange(10, 20, 0.5, dtype=np.float)])"
      ],
      "metadata": {
        "id": "QYxJmcOjZqIu"
      },
      "execution_count": null,
      "outputs": []
    },
    {
      "cell_type": "markdown",
      "source": [
        "# Debug Model Issues"
      ],
      "metadata": {
        "id": "4OZzyFRDggrl"
      }
    },
    {
      "cell_type": "code",
      "source": [
        "diffusion_model.compute_model_loss(original_data)"
      ],
      "metadata": {
        "id": "9SN7WLahgjZ5"
      },
      "execution_count": null,
      "outputs": []
    }
  ],
  "metadata": {
    "accelerator": "TPU",
    "colab": {
      "provenance": [],
      "machine_shape": "hm"
    },
    "kernelspec": {
      "display_name": "Python 3",
      "name": "python3"
    },
    "language_info": {
      "name": "python"
    },
    "widgets": {
      "application/vnd.jupyter.widget-state+json": {
        "668099cdbd05414e8d33ec410e80f722": {
          "model_module": "nglview-js-widgets",
          "model_name": "ColormakerRegistryModel",
          "model_module_version": "3.0.8",
          "state": {
            "_dom_classes": [],
            "_model_module": "nglview-js-widgets",
            "_model_module_version": "3.0.8",
            "_model_name": "ColormakerRegistryModel",
            "_msg_ar": [],
            "_msg_q": [],
            "_ready": false,
            "_view_count": null,
            "_view_module": "nglview-js-widgets",
            "_view_module_version": "3.0.8",
            "_view_name": "ColormakerRegistryView",
            "layout": "IPY_MODEL_5eec77cf686443f98d90bde7ad02caad"
          }
        }
      }
    }
  },
  "nbformat": 4,
  "nbformat_minor": 0
}
